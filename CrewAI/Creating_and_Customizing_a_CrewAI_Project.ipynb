{
 "cells": [
  {
   "cell_type": "markdown",
   "metadata": {
    "id": "bynPgd91ne4D"
   },
   "source": [
    "# <font color='red'>Creating and Customizing a CrewAI Project</font>"
   ]
  },
  {
   "cell_type": "markdown",
   "metadata": {
    "id": "V3DW1Y_qqB28"
   },
   "source": [
    "## <font color='green'>Table of Contents</font>\n",
    "1. [Introduction](#Introduction)\n",
    "2. [Install Required Dependencies](#Install_Required_Dependencies)\n",
    "3. [Create a New CrewAI Project](#Create_a_New_CrewAI_Project)\n",
    "4. [Customizing Agent Configuration](#Customizing_Agent_Configuration)\n",
    "  - [Define Agent Role and Goal](#Define_Agent_Role_and_Goal)\n",
    "5. [Customizing Task Configuration](#Customizing_Task_Configuration)\n",
    "  - [Define Task Description_and_Expected Output](#Define_Task_Description_and_Expected_Output)\n",
    "6. [Implementing the Crew Class](#Implementing_the_Crew_Class)\n",
    "  - [Define the MyProjectCrew Class and Load Configurations](#Define_the_MyProjectCrew_Class_and_Load_Configurations)\n",
    "7. [Executing the Project](#Executing_the_Project)\n",
    "  - [Define the Main Script](#Define_the_Main_Script)\n",
    "  - [Run the Project](#Run_the_Project)\n",
    "8. [Conclusion](#Conclusion)"
   ]
  },
  {
   "cell_type": "markdown",
   "metadata": {
    "id": "vYn8HVF6klhl"
   },
   "source": [
    "## <font color='green'>1. Introduction</font>\n",
    "\n",
    "This code will guide you through the process of creating a CrewAI project, customizing agent and task configurations, and running a custom AI workflow.\n",
    "\n",
    "By the end of this, you'll have a fully functional CrewAI project tailored to your needs.\n"
   ]
  },
  {
   "cell_type": "markdown",
   "metadata": {
    "id": "oZvPcn3UYpQZ"
   },
   "source": [
    "## <font color='green'>2. Install Required Dependencies</font>\n",
    "\n",
    "First, we need to install the necessary dependencies, including CrewAI and CrewAI Tools.\n"
   ]
  },
  {
   "cell_type": "code",
   "execution_count": null,
   "metadata": {
    "id": "6yYl1fppJmMa"
   },
   "outputs": [],
   "source": [
    "# Install CrewAI and other dependencies\n",
    "!pip install crewai crewai-tools"
   ]
  },
  {
   "cell_type": "markdown",
   "metadata": {
    "id": "FB1zhldUZLkb"
   },
   "source": [
    "## <font color='green'>3. Create a New CrewAI Project</font>\n",
    "\n",
    "Now, let's create a new CrewAI project named my_project. This project will serve as the foundation for our AI workflow.\n"
   ]
  },
  {
   "cell_type": "code",
   "execution_count": null,
   "metadata": {
    "id": "5_KPj3sxJpDt"
   },
   "outputs": [],
   "source": [
    "# Create a new CrewAI project\n",
    "!crewai create crew my_project"
   ]
  },
  {
   "cell_type": "code",
   "execution_count": null,
   "metadata": {
    "id": "kb3Ou1svJrfK"
   },
   "outputs": [],
   "source": [
    "# Change directory to the project (using %cd is fine in Colab)\n",
    "%cd /content/my_project/src/my_project"
   ]
  },
  {
   "cell_type": "markdown",
   "metadata": {
    "id": "biLlcyiWdjjk"
   },
   "source": [
    "###  <font color='blue'>3.1 Set OpenAI Key</font>\n",
    "We will define the role, goal, and backstory of the researcher agent to specify its responsibilities and expertise."
   ]
  },
  {
   "cell_type": "code",
   "execution_count": null,
   "metadata": {
    "id": "Ssvin6_uQkJL"
   },
   "outputs": [],
   "source": [
    "import os\n",
    "os.environ[\"OPENAI_API_KEY\"] = \"Your_OpenAI_Key\""
   ]
  },
  {
   "cell_type": "markdown",
   "metadata": {
    "id": "jyy_vRo3ZGtT"
   },
   "source": [
    "## <font color='green'>4. Customizing Agent Configuration</font>\n",
    "\n",
    "CrewAI uses agents to perform tasks. In this step, we will customize the agents.yaml file to define a \"Job Candidate Researcher\" agent responsible for finding potential candidates for a job.\n",
    "\n",
    "###  <font color='blue'>4.1 Define Agent Role and Goal</font>\n",
    "We will define the role, goal, and backstory of the researcher agent to specify its responsibilities and expertise."
   ]
  },
  {
   "cell_type": "code",
   "execution_count": null,
   "metadata": {
    "id": "-HE3Fk8dcp6U"
   },
   "outputs": [],
   "source": [
    "# Customizing agents.yaml\n",
    "agents_yaml = \"\"\"\n",
    "researcher:\n",
    "  role: >\n",
    "    Job Candidate Researcher\n",
    "  goal: >\n",
    "    Find potential candidates for the job\n",
    "  backstory: >\n",
    "    You are adept at finding the right candidates by exploring various online\n",
    "    resources. Your skill in identifying suitable candidates ensures the best\n",
    "    match for job positions.\n",
    "\"\"\"\n",
    "\n",
    "# Write to agents.yaml\n",
    "with open('config/agents.yaml', 'w') as f:\n",
    "    f.write(agents_yaml)"
   ]
  },
  {
   "cell_type": "markdown",
   "metadata": {
    "id": "Bs4NzJYRaI-2"
   },
   "source": [
    "## <font color='green'>5. Customizing Task Configuration</font>\n",
    "\n",
    "In this step, we define a task that the researcher agent will perform. The task involves researching and finding potential job candidates.\n",
    "\n",
    "###  <font color='blue'>5.1 Define Task Description and Expected Output</font>\n",
    "\n",
    "We will customize the tasks.yaml file to specify the details of the research_candidates_task, including its description, expected output, and the associated agent.\n"
   ]
  },
  {
   "cell_type": "code",
   "execution_count": null,
   "metadata": {
    "id": "GvQk7yXcJx6l"
   },
   "outputs": [],
   "source": [
    "# Customizing tasks.yaml\n",
    "tasks_yaml = \"\"\"\n",
    "research_candidates_task:\n",
    "  description: >\n",
    "    Conduct thorough research to find potential candidates for the specified job.\n",
    "    Utilize various online resources and databases to gather a comprehensive list of potential candidates.\n",
    "    Ensure that the candidates meet the job requirements provided.\n",
    "\n",
    "    Job Requirements:\n",
    "    {job_requirements}\n",
    "  expected_output: >\n",
    "    A list of 10 potential candidates with their contact information and brief profiles highlighting their suitability.\n",
    "\"\"\"\n",
    "\n",
    "# Write to tasks.yaml\n",
    "with open('config/tasks.yaml', 'w') as f:\n",
    "    f.write(tasks_yaml)"
   ]
  },
  {
   "cell_type": "markdown",
   "metadata": {
    "id": "ue7fMtY0amCW"
   },
   "source": [
    "## <font color='green'>6. Implementing the Crew Class</font>\n",
    "\n",
    "The MyProjectCrew class will handle the setup and execution of agents and tasks. We will define the methods to load configurations, create agents, and execute tasks sequentially.\n",
    "\n",
    "###  <font color='blue'>6.1 Define the MyProjectCrew Class and Load Configurations</font>\n",
    "\n",
    "The MyProjectCrew class will load the agent and task configurations from the YAML files."
   ]
  },
  {
   "cell_type": "code",
   "execution_count": null,
   "metadata": {
    "id": "9J99x9oyJ6d9"
   },
   "outputs": [],
   "source": [
    "# Crew.py content\n",
    "crew_py = \"\"\"\n",
    "from crewai import Agent, Crew, Process, Task\n",
    "from crewai.project import agent, crew, task\n",
    "\n",
    "class MyProjectCrew:\n",
    "\n",
    "    def __init__(self, inputs=None):\n",
    "        self.agents_config = self.load_config('config/agents.yaml')\n",
    "        self.tasks_config = self.load_config('config/tasks.yaml')\n",
    "        # Update tasks_config with inputs if provided\n",
    "        if inputs:\n",
    "            self.tasks_config['research_candidates_task']['description'] = self.tasks_config['research_candidates_task']['description'].format(**inputs)\n",
    "\n",
    "    @staticmethod\n",
    "    def load_config(config_path):\n",
    "        import yaml\n",
    "        with open(config_path, 'r') as file:\n",
    "            return yaml.safe_load(file)\n",
    "\n",
    "    @agent\n",
    "    def researcher(self) -> Agent:\n",
    "        return Agent(\n",
    "            config=self.agents_config['researcher'],\n",
    "            verbose=True,\n",
    "            llm_kwargs={\"openai_api_key\": \"your_api_key_here\"}\n",
    "        )\n",
    "\n",
    "    @task\n",
    "    def research_candidates_task(self) -> Task:\n",
    "        return Task(\n",
    "            config=self.tasks_config['research_candidates_task'],\n",
    "            agent=self.researcher()  # Keep the agent\n",
    "        )  # Remove the context parameter\n",
    "\n",
    "    @crew\n",
    "    def crew(self) -> Crew:\n",
    "        return Crew(\n",
    "            agents=self.agents,\n",
    "            tasks=self.tasks,\n",
    "            process=Process.sequential,\n",
    "            verbose=True,\n",
    "        )\n",
    "\"\"\"\n",
    "\n",
    "# Write to crew.py\n",
    "with open('crew.py', 'w') as f:\n",
    "    f.write(crew_py)"
   ]
  },
  {
   "cell_type": "markdown",
   "metadata": {
    "id": "-Yl2Z6RbbPv_"
   },
   "source": [
    "## <font color='green'>7. Executing the Project</font>\n",
    "\n",
    "Finally, we define the main script to run the project. This script initializes the MyProjectCrew class with the required job requirements and starts the AI workflow.\n",
    "\n",
    "###  <font color='blue'>7.1 Define the Main Script</font>\n",
    "\n",
    "The main script will set up the inputs and kick off the project."
   ]
  },
  {
   "cell_type": "code",
   "execution_count": null,
   "metadata": {
    "id": "SKkoTVNKKVh8"
   },
   "outputs": [],
   "source": [
    "# Main.py content\n",
    "main_py = \"\"\"\n",
    "from crew import MyProjectCrew\n",
    "\n",
    "def run():\n",
    "    inputs = {\n",
    "        \"job_requirements\": \"Python, Machine Learning, 3+ years of experience\"\n",
    "    }\n",
    "    MyProjectCrew(inputs).crew().kickoff()\n",
    "\n",
    "if __name__ == \"__main__\":\n",
    "    run()\n",
    "\"\"\"\n",
    "\n",
    "# Write to main.py\n",
    "with open('main.py', 'w') as f:\n",
    "    f.write(main_py)"
   ]
  },
  {
   "cell_type": "markdown",
   "metadata": {
    "id": "1Y2MoRoZb6iK"
   },
   "source": [
    "###  <font color='blue'>7.2 Run the Project</font>\n",
    "\n",
    "With everything set up, we can now run our project and see the researcher agent in action, finding potential job candidates."
   ]
  },
  {
   "cell_type": "code",
   "execution_count": null,
   "metadata": {
    "id": "G-3QeaEbKY-V"
   },
   "outputs": [],
   "source": [
    "# Run the main script\n",
    "!python main.py"
   ]
  },
  {
   "cell_type": "markdown",
   "metadata": {
    "id": "ytfjCqC5cLtG"
   },
   "source": [
    "## <font color='green'>8. Conclusion</font>\n",
    "\n",
    "This code walked you through setting up a basic CrewAI project, customizing agent and task configurations, and running the project. You can extend this project by adding more agents, tasks, and tools to suit your needs."
   ]
  },
  {
   "cell_type": "code",
   "execution_count": null,
   "metadata": {},
   "outputs": [],
   "source": []
  }
 ],
 "metadata": {
  "colab": {
   "provenance": []
  },
  "kernelspec": {
   "display_name": "Python 3 (ipykernel)",
   "language": "python",
   "name": "python3"
  },
  "language_info": {
   "codemirror_mode": {
    "name": "ipython",
    "version": 3
   },
   "file_extension": ".py",
   "mimetype": "text/x-python",
   "name": "python",
   "nbconvert_exporter": "python",
   "pygments_lexer": "ipython3",
   "version": "3.12.4"
  }
 },
 "nbformat": 4,
 "nbformat_minor": 4
}
