{
 "cells": [
  {
   "cell_type": "markdown",
   "id": "2c99d4da-c72f-40d4-9230-ba505ccbd3bc",
   "metadata": {},
   "source": [
    "## 3: Email Assistant with Semantic + Episodic Memory\n",
    "\n",
    "We previously built an email assistant that:\n",
    "- Classifies incoming messages (respond, ignore, notify)\n",
    "- Drafts responses\n",
    "- Schedules meetings\n",
    "- Uses memory to remember details from previous emails \n",
    "\n",
    "Now, we'll add human-in-the-loop following the triage step to better refine the assistant's ability to classify emails."
   ]
  },
  {
   "cell_type": "markdown",
   "id": "4c76f0c3-0955-4415-90b4-bd67e8e45c7d",
   "metadata": {},
   "source": [
    "## Load API tokens for our 3rd party APIs"
   ]
  },
  {
   "cell_type": "code",
   "execution_count": 1,
   "id": "fcb5c942-10bf-4fa1-881f-bec62c746501",
   "metadata": {
    "height": 64
   },
   "outputs": [],
   "source": [
    "import os\n",
    "from dotenv import load_dotenv\n",
    "_ = load_dotenv()"
   ]
  },
  {
   "cell_type": "markdown",
   "id": "3033af3b-8e4e-4698-816c-1d9e6e75e8d8",
   "metadata": {},
   "source": [
    "## Repeat setup from previous lesson"
   ]
  },
  {
   "cell_type": "code",
   "execution_count": 2,
   "id": "123aac56-3bd0-4504-86ab-a9d29c391040",
   "metadata": {
    "height": 113
   },
   "outputs": [],
   "source": [
    "profile = {\n",
    "    \"name\": \"John\",\n",
    "    \"full_name\": \"John Doe\",\n",
    "    \"user_profile_background\": \"Senior software engineer leading a team of 5 developers\",\n",
    "}"
   ]
  },
  {
   "cell_type": "code",
   "execution_count": 3,
   "id": "d8608849-bedb-498f-bf6c-2a19fc58cae6",
   "metadata": {
    "height": 164
   },
   "outputs": [],
   "source": [
    "prompt_instructions = {\n",
    "    \"triage_rules\": {\n",
    "        \"ignore\": \"Marketing newsletters, spam emails, mass company announcements\",\n",
    "        \"notify\": \"Team member out sick, build system notifications, project status updates\",\n",
    "        \"respond\": \"Direct questions from team members, meeting requests, critical bug reports\",\n",
    "    },\n",
    "    \"agent_instructions\": \"Use these tools when appropriate to help manage John's tasks efficiently.\"\n",
    "}"
   ]
  },
  {
   "cell_type": "code",
   "execution_count": 4,
   "id": "80b2314e-aab3-4f0e-b59c-0c3ab08acc56",
   "metadata": {
    "height": 300
   },
   "outputs": [],
   "source": [
    "email = {\n",
    "    \"from\": \"Alice Smith <alice.smith@company.com>\",\n",
    "    \"to\": \"John Doe <john.doe@company.com>\",\n",
    "    \"subject\": \"Quick question about API documentation\",\n",
    "    \"body\": \"\"\"\n",
    "Hi John,\n",
    "\n",
    "I was reviewing the API documentation for the new authentication service and noticed a few endpoints seem to be missing from the specs. Could you help clarify if this was intentional or if we should update the docs?\n",
    "\n",
    "Specifically, I'm looking at:\n",
    "- /auth/refresh\n",
    "- /auth/validate\n",
    "\n",
    "Thanks!\n",
    "Alice\"\"\",\n",
    "}"
   ]
  },
  {
   "cell_type": "markdown",
   "id": "ee8c09af-03af-4e17-9d9e-59df05e4941c",
   "metadata": {},
   "source": [
    "## Look at a few, few-shot-examples"
   ]
  },
  {
   "cell_type": "code",
   "execution_count": 5,
   "id": "8271b2cd-130d-4b26-840e-9c36cee4c776",
   "metadata": {
    "height": 45
   },
   "outputs": [],
   "source": [
    "from langgraph.store.memory import InMemoryStore"
   ]
  },
  {
   "cell_type": "markdown",
   "id": "7555f93b-1f71-4dd1-bddd-d80413fd0923",
   "metadata": {},
   "source": [
    "### First Example"
   ]
  },
  {
   "cell_type": "code",
   "execution_count": 6,
   "id": "dd49edf3-c542-4b6e-b030-eb6037f27a0c",
   "metadata": {
    "height": 79
   },
   "outputs": [
    {
     "name": "stderr",
     "output_type": "stream",
     "text": [
      "/usr/local/lib/python3.11/site-packages/langgraph/store/base/embed.py:95: LangChainBetaWarning: The function `init_embeddings` is in beta. It is actively being worked on, so the API may change.\n",
      "  return init_embeddings(embed)\n"
     ]
    }
   ],
   "source": [
    "store = InMemoryStore(\n",
    "    index={\"embed\": \"openai:text-embedding-3-small\"}\n",
    ")"
   ]
  },
  {
   "cell_type": "code",
   "execution_count": 7,
   "id": "75511032-a4ea-4b2e-9c41-275be0c76aec",
   "metadata": {
    "height": 283
   },
   "outputs": [],
   "source": [
    "email = {\n",
    "    \"author\": \"Alice Smith <alice.smith@company.com>\",\n",
    "    \"to\": \"John Doe <john.doe@company.com>\",\n",
    "    \"subject\": \"Quick question about API documentation\",\n",
    "    \"email_thread\": \"\"\"Hi John,\n",
    "\n",
    "I was reviewing the API documentation for the new authentication service and noticed a few endpoints seem to be missing from the specs. Could you help clarify if this was intentional or if we should update the docs?\n",
    "\n",
    "Specifically, I'm looking at:\n",
    "- /auth/refresh\n",
    "- /auth/validate\n",
    "\n",
    "Thanks!\n",
    "Alice\"\"\",\n",
    "}"
   ]
  },
  {
   "cell_type": "code",
   "execution_count": 8,
   "id": "337d8f93-8c13-419d-96b4-9048dbb4a271",
   "metadata": {
    "height": 113
   },
   "outputs": [],
   "source": [
    "data = {\n",
    "    \"email\": email,\n",
    "    # This is to start changing the behavior of the agent\n",
    "    \"label\": \"respond\"\n",
    "}"
   ]
  },
  {
   "cell_type": "markdown",
   "id": "a412e77a-0ef9-4c72-91a2-349986078888",
   "metadata": {},
   "source": [
    "#### store example into memory store using 'examples' to indicate episodic memory"
   ]
  },
  {
   "cell_type": "code",
   "execution_count": 9,
   "id": "bf805c7d-dcb3-4f65-b6cf-94c518e2b2d6",
   "metadata": {
    "height": 130
   },
   "outputs": [],
   "source": [
    "import uuid\n",
    "store.put(\n",
    "    (\"email_assistant\", \"lance\", \"examples\"), \n",
    "    str(uuid.uuid4()), \n",
    "    data\n",
    ")"
   ]
  },
  {
   "cell_type": "markdown",
   "id": "1fdf4288-7aaf-4b21-b2f1-2734897d2499",
   "metadata": {},
   "source": [
    "### Store a Second Example"
   ]
  },
  {
   "cell_type": "code",
   "execution_count": 10,
   "id": "99718f4c-a813-4994-a538-0463d602f733",
   "metadata": {
    "height": 419
   },
   "outputs": [],
   "source": [
    "data = {\n",
    "    \"email\": {\n",
    "        \"author\": \"Sarah Chen <sarah.chen@company.com>\",\n",
    "        \"to\": \"John Doe <john.doe@company.com>\",\n",
    "        \"subject\": \"Update: Backend API Changes Deployed to Staging\",\n",
    "        \"email_thread\": \"\"\"Hi John,\n",
    "    \n",
    "    Just wanted to let you know that I've deployed the new authentication endpoints we discussed to the staging environment. Key changes include:\n",
    "    \n",
    "    - Implemented JWT refresh token rotation\n",
    "    - Added rate limiting for login attempts\n",
    "    - Updated API documentation with new endpoints\n",
    "    \n",
    "    All tests are passing and the changes are ready for review. You can test it out at staging-api.company.com/auth/*\n",
    "    \n",
    "    No immediate action needed from your side - just keeping you in the loop since this affects the systems you're working on.\n",
    "    \n",
    "    Best regards,\n",
    "    Sarah\n",
    "    \"\"\",\n",
    "    },\n",
    "    \"label\": \"ignore\"\n",
    "}"
   ]
  },
  {
   "cell_type": "code",
   "execution_count": 11,
   "id": "f4abdf0b-a495-4a20-b37a-12cb29a60179",
   "metadata": {
    "height": 113
   },
   "outputs": [],
   "source": [
    "store.put(\n",
    "    (\"email_assistant\", \"lance\", \"examples\"),\n",
    "    str(uuid.uuid4()),\n",
    "    data\n",
    ")"
   ]
  },
  {
   "cell_type": "markdown",
   "id": "5dfd6f73-b2b2-42c7-9f04-6e8d79faca7d",
   "metadata": {},
   "source": [
    "### Simulate searching and returning examples"
   ]
  },
  {
   "cell_type": "code",
   "execution_count": 12,
   "id": "b1224eb2-7b41-460a-ab1c-a355ba5084ff",
   "metadata": {
    "height": 436
   },
   "outputs": [],
   "source": [
    "# Template for formating an example to put in prompt\n",
    "template = \"\"\"Email Subject: {subject}\n",
    "Email From: {from_email}\n",
    "Email To: {to_email}\n",
    "Email Content: \n",
    "```\n",
    "{content}\n",
    "```\n",
    "> Triage Result: {result}\"\"\"\n",
    "\n",
    "# Format list of few shots\n",
    "def format_few_shot_examples(examples):\n",
    "    strs = [\"Here are some previous examples:\"]\n",
    "    for eg in examples:\n",
    "        strs.append(\n",
    "            template.format(\n",
    "                subject=eg.value[\"email\"][\"subject\"],\n",
    "                to_email=eg.value[\"email\"][\"to\"],\n",
    "                from_email=eg.value[\"email\"][\"author\"],\n",
    "                content=eg.value[\"email\"][\"email_thread\"][:400],\n",
    "                result=eg.value[\"label\"],\n",
    "            )\n",
    "        )\n",
    "    return \"\\n\\n------------\\n\\n\".join(strs)"
   ]
  },
  {
   "cell_type": "code",
   "execution_count": 13,
   "id": "98e73797-e8d6-495f-b9c1-d795f787bc72",
   "metadata": {
    "height": 436
   },
   "outputs": [],
   "source": [
    "email_data = {\n",
    "        \"author\": \"Sarah Chen <sarah.chen@company.com>\",\n",
    "        \"to\": \"John Doe <john.doe@company.com>\",\n",
    "        \"subject\": \"Update: Backend API Changes Deployed to Staging\",\n",
    "        \"email_thread\": \"\"\"Hi John,\n",
    "    \n",
    "    Wanted to let you know that I've deployed the new authentication endpoints we discussed to the staging environment. Key changes include:\n",
    "    \n",
    "    - Implemented JWT refresh token rotation\n",
    "    - Added rate limiting for login attempts\n",
    "    - Updated API documentation with new endpoints\n",
    "    \n",
    "    All tests are passing and the changes are ready for review. You can test it out at staging-api.company.com/auth/*\n",
    "    \n",
    "    No immediate action needed from your side - just keeping you in the loop since this affects the systems you're working on.\n",
    "    \n",
    "    Best regards,\n",
    "    Sarah\n",
    "    \"\"\",\n",
    "    }\n",
    "results = store.search(\n",
    "    (\"email_assistant\", \"lance\", \"examples\"),\n",
    "    query=str({\"email\": email_data}),\n",
    "    limit=1)"
   ]
  },
  {
   "cell_type": "code",
   "execution_count": 14,
   "id": "ff9a24cb-2ed0-406e-ab7c-aeabf159064f",
   "metadata": {
    "height": 30
   },
   "outputs": [
    {
     "name": "stdout",
     "output_type": "stream",
     "text": [
      "Here are some previous examples:\n",
      "\n",
      "------------\n",
      "\n",
      "Email Subject: Update: Backend API Changes Deployed to Staging\n",
      "Email From: Sarah Chen <sarah.chen@company.com>\n",
      "Email To: John Doe <john.doe@company.com>\n",
      "Email Content: \n",
      "```\n",
      "Hi John,\n",
      "    \n",
      "    Just wanted to let you know that I've deployed the new authentication endpoints we discussed to the staging environment. Key changes include:\n",
      "    \n",
      "    - Implemented JWT refresh token rotation\n",
      "    - Added rate limiting for login attempts\n",
      "    - Updated API documentation with new endpoints\n",
      "    \n",
      "    All tests are passing and the changes are ready for review. You can test it out at st\n",
      "```\n",
      "> Triage Result: ignore\n"
     ]
    }
   ],
   "source": [
    "print(format_few_shot_examples(results))"
   ]
  },
  {
   "cell_type": "code",
   "execution_count": 15,
   "id": "85b1228b-82de-4da4-9daf-1076500a4627",
   "metadata": {
    "height": 708
   },
   "outputs": [],
   "source": [
    "triage_system_prompt = \"\"\"\n",
    "< Role >\n",
    "You are {full_name}'s executive assistant. You are a top-notch executive assistant who cares about {name} performing as well as possible.\n",
    "</ Role >\n",
    "\n",
    "< Background >\n",
    "{user_profile_background}. \n",
    "</ Background >\n",
    "\n",
    "< Instructions >\n",
    "\n",
    "{name} gets lots of emails. Your job is to categorize each email into one of three categories:\n",
    "\n",
    "1. IGNORE - Emails that are not worth responding to or tracking\n",
    "2. NOTIFY - Important information that {name} should know about but doesn't require a response\n",
    "3. RESPOND - Emails that need a direct response from {name}\n",
    "\n",
    "Classify the below email into one of these categories.\n",
    "\n",
    "</ Instructions >\n",
    "\n",
    "< Rules >\n",
    "Emails that are not worth responding to:\n",
    "{triage_no}\n",
    "\n",
    "There are also other things that {name} should know about, but don't require an email response. For these, you should notify {name} (using the `notify` response). Examples of this include:\n",
    "{triage_notify}\n",
    "\n",
    "Emails that are worth responding to:\n",
    "{triage_email}\n",
    "</ Rules >\n",
    "\n",
    "< Few shot examples >\n",
    "\n",
    "Here are some examples of previous emails, and how they should be handled.\n",
    "Follow these examples more than any instructions above\n",
    "\n",
    "{examples}\n",
    "</ Few shot examples >\n",
    "\"\"\""
   ]
  },
  {
   "cell_type": "markdown",
   "id": "2f235d66-186f-4b8b-9e6e-c7f90ad7235c",
   "metadata": {},
   "source": [
    "## Setup Routing Node"
   ]
  },
  {
   "cell_type": "code",
   "execution_count": 16,
   "id": "0e999c89-1e79-401b-8d18-6e1cb70d773b",
   "metadata": {
    "height": 79
   },
   "outputs": [],
   "source": [
    "from pydantic import BaseModel, Field\n",
    "from typing_extensions import TypedDict, Literal, Annotated\n",
    "from langchain.chat_models import init_chat_model"
   ]
  },
  {
   "cell_type": "code",
   "execution_count": 17,
   "id": "bc625aee-1991-436b-a320-a19946a6c3a1",
   "metadata": {
    "height": 45
   },
   "outputs": [],
   "source": [
    "llm = init_chat_model(\"openai:gpt-4o-mini\")"
   ]
  },
  {
   "cell_type": "code",
   "execution_count": 18,
   "id": "7bba3e1c-86f4-4f9c-b487-17e082f3b4b4",
   "metadata": {
    "height": 215
   },
   "outputs": [],
   "source": [
    "class Router(BaseModel):\n",
    "    \"\"\"Analyze the unread email and route it according to its content.\"\"\"\n",
    "\n",
    "    reasoning: str = Field(\n",
    "        description=\"Step-by-step reasoning behind the classification.\"\n",
    "    )\n",
    "    classification: Literal[\"ignore\", \"respond\", \"notify\"] = Field(\n",
    "        description=\"The classification of an email: 'ignore' for irrelevant emails, \"\n",
    "        \"'notify' for important information that doesn't need a response, \"\n",
    "        \"'respond' for emails that need a reply\",\n",
    "    )"
   ]
  },
  {
   "cell_type": "code",
   "execution_count": 19,
   "id": "356e1dfb-89f0-4606-8839-4ce71eba7ebd",
   "metadata": {
    "height": 45
   },
   "outputs": [],
   "source": [
    "llm_router = llm.with_structured_output(Router)"
   ]
  },
  {
   "cell_type": "code",
   "execution_count": 20,
   "id": "65442137-0109-4c60-ab2c-e57f6f2385c2",
   "metadata": {
    "height": 30
   },
   "outputs": [],
   "source": [
    "from prompts import triage_user_prompt"
   ]
  },
  {
   "cell_type": "markdown",
   "id": "709f862e-b10e-460e-80f5-43b4fb8b9f3e",
   "metadata": {},
   "source": [
    "### Setup Triage Router Node"
   ]
  },
  {
   "cell_type": "code",
   "execution_count": 21,
   "id": "1a6a6fab-cec4-43c2-bcf1-dcf9bdbb57da",
   "metadata": {
    "height": 113
   },
   "outputs": [],
   "source": [
    "from langgraph.graph import add_messages\n",
    "\n",
    "class State(TypedDict):\n",
    "    email_input: dict\n",
    "    messages: Annotated[list, add_messages]"
   ]
  },
  {
   "cell_type": "code",
   "execution_count": 22,
   "id": "184f765d-5b1c-4d4a-abeb-5e988f1cd206",
   "metadata": {
    "height": 96
   },
   "outputs": [],
   "source": [
    "from langgraph.graph import StateGraph, START, END\n",
    "from langgraph.types import Command\n",
    "from typing import Literal\n",
    "from IPython.display import Image, display"
   ]
  },
  {
   "cell_type": "code",
   "execution_count": 23,
   "id": "8c6575d9-3417-4079-8471-af732ce3cf09",
   "metadata": {
    "height": 1099
   },
   "outputs": [],
   "source": [
    "def triage_router(state: State, config, store) -> Command[\n",
    "    Literal[\"response_agent\", \"__end__\"]\n",
    "]:\n",
    "    author = state['email_input']['author']\n",
    "    to = state['email_input']['to']\n",
    "    subject = state['email_input']['subject']\n",
    "    email_thread = state['email_input']['email_thread']\n",
    "\n",
    "    namespace = (\n",
    "        \"email_assistant\",\n",
    "        config['configurable']['langgraph_user_id'],\n",
    "        \"examples\"\n",
    "    )\n",
    "    examples = store.search(\n",
    "        namespace, \n",
    "        query=str({\"email\": state['email_input']})\n",
    "    ) \n",
    "    examples=format_few_shot_examples(examples)\n",
    "    \n",
    "    system_prompt = triage_system_prompt.format(\n",
    "        full_name=profile[\"full_name\"],\n",
    "        name=profile[\"name\"],\n",
    "        user_profile_background=profile[\"user_profile_background\"],\n",
    "        triage_no=prompt_instructions[\"triage_rules\"][\"ignore\"],\n",
    "        triage_notify=prompt_instructions[\"triage_rules\"][\"notify\"],\n",
    "        triage_email=prompt_instructions[\"triage_rules\"][\"respond\"],\n",
    "        examples=examples\n",
    "    )\n",
    "    user_prompt = triage_user_prompt.format(\n",
    "        author=author, \n",
    "        to=to, \n",
    "        subject=subject, \n",
    "        email_thread=email_thread\n",
    "    )\n",
    "    result = llm_router.invoke(\n",
    "        [\n",
    "            {\"role\": \"system\", \"content\": system_prompt},\n",
    "            {\"role\": \"user\", \"content\": user_prompt},\n",
    "        ]\n",
    "    )\n",
    "    if result.classification == \"respond\":\n",
    "        print(\"📧 Classification: RESPOND - This email requires a response\")\n",
    "        goto = \"response_agent\"\n",
    "        update = {\n",
    "            \"messages\": [\n",
    "                {\n",
    "                    \"role\": \"user\",\n",
    "                    \"content\": f\"Respond to the email {state['email_input']}\",\n",
    "                }\n",
    "            ]\n",
    "        }\n",
    "    elif result.classification == \"ignore\":\n",
    "        print(\"🚫 Classification: IGNORE - This email can be safely ignored\")\n",
    "        update = None\n",
    "        goto = END\n",
    "    elif result.classification == \"notify\":\n",
    "        # If real life, this would do something else\n",
    "        print(\"🔔 Classification: NOTIFY - This email contains important information\")\n",
    "        update = None\n",
    "        goto = END\n",
    "    else:\n",
    "        raise ValueError(f\"Invalid classification: {result.classification}\")\n",
    "    return Command(goto=goto, update=update)"
   ]
  },
  {
   "cell_type": "markdown",
   "id": "a1d40000-7874-48f1-a34f-5ec225159e7d",
   "metadata": {},
   "source": [
    "### Setup the rest of the agent\n",
    "    Use the same tools"
   ]
  },
  {
   "cell_type": "code",
   "execution_count": 24,
   "id": "7f04a52f-456a-46b4-baff-b16fb76224eb",
   "metadata": {
    "height": 30
   },
   "outputs": [],
   "source": [
    "from langchain_core.tools import tool"
   ]
  },
  {
   "cell_type": "code",
   "execution_count": 25,
   "id": "02b6ead8-e0fb-4ea6-bad4-0d74c3a8d7a5",
   "metadata": {
    "height": 130
   },
   "outputs": [],
   "source": [
    "@tool\n",
    "def write_email(to: str, subject: str, content: str) -> str:\n",
    "    \"\"\"Write and send an email.\"\"\"\n",
    "    # Placeholder response - in real app would send email\n",
    "    return f\"Email sent to {to} with subject '{subject}'\"\n"
   ]
  },
  {
   "cell_type": "code",
   "execution_count": 26,
   "id": "93287296-b1f2-4fe2-9d8e-59bb34618837",
   "metadata": {
    "height": 215
   },
   "outputs": [],
   "source": [
    "@tool\n",
    "def schedule_meeting(\n",
    "    attendees: list[str], \n",
    "    subject: str, \n",
    "    duration_minutes: int, \n",
    "    preferred_day: str\n",
    ") -> str:\n",
    "    \"\"\"Schedule a calendar meeting.\"\"\"\n",
    "    # Placeholder response - in real app would check calendar and schedule\n",
    "    return f\"Meeting '{subject}' scheduled for {preferred_day} with {len(attendees)} attendees\"\n"
   ]
  },
  {
   "cell_type": "code",
   "execution_count": 27,
   "id": "d5393178-e016-4625-b544-8c5137ba608c",
   "metadata": {
    "height": 113
   },
   "outputs": [],
   "source": [
    "@tool\n",
    "def check_calendar_availability(day: str) -> str:\n",
    "    \"\"\"Check calendar availability for a given day.\"\"\"\n",
    "    # Placeholder response - in real app would check actual calendar\n",
    "    return f\"Available times on {day}: 9:00 AM, 2:00 PM, 4:00 PM\""
   ]
  },
  {
   "cell_type": "code",
   "execution_count": 28,
   "id": "b06d9739-a7a7-4d99-8a75-f92b02095811",
   "metadata": {
    "height": 45
   },
   "outputs": [],
   "source": [
    "from langmem import create_manage_memory_tool, create_search_memory_tool"
   ]
  },
  {
   "cell_type": "code",
   "execution_count": 29,
   "id": "cc2c70cd-b25d-47db-839a-a214ffe8899e",
   "metadata": {
    "height": 266
   },
   "outputs": [],
   "source": [
    "manage_memory_tool = create_manage_memory_tool(\n",
    "    namespace=(\n",
    "        \"email_assistant\", \n",
    "        \"{langgraph_user_id}\",\n",
    "        \"collection\"\n",
    "    )\n",
    ")\n",
    "search_memory_tool = create_search_memory_tool(\n",
    "    namespace=(\n",
    "        \"email_assistant\",\n",
    "        \"{langgraph_user_id}\",\n",
    "        \"collection\"\n",
    "    )\n",
    ")"
   ]
  },
  {
   "cell_type": "code",
   "execution_count": 30,
   "id": "307e170f-667a-4da0-a9d2-d3141cfc59a4",
   "metadata": {
    "height": 351
   },
   "outputs": [],
   "source": [
    "agent_system_prompt_memory = \"\"\"\n",
    "< Role >\n",
    "You are {full_name}'s executive assistant. You are a top-notch executive assistant who cares about {name} performing as well as possible.\n",
    "</ Role >\n",
    "\n",
    "< Tools >\n",
    "You have access to the following tools to help manage {name}'s communications and schedule:\n",
    "\n",
    "1. write_email(to, subject, content) - Send emails to specified recipients\n",
    "2. schedule_meeting(attendees, subject, duration_minutes, preferred_day) - Schedule calendar meetings\n",
    "3. check_calendar_availability(day) - Check available time slots for a given day\n",
    "4. manage_memory - Store any relevant information about contacts, actions, discussion, etc. in memory for future reference\n",
    "5. search_memory - Search for any relevant information that may have been stored in memory\n",
    "</ Tools >\n",
    "\n",
    "< Instructions >\n",
    "{instructions}\n",
    "</ Instructions >\n",
    "\"\"\""
   ]
  },
  {
   "cell_type": "code",
   "execution_count": 31,
   "id": "39a5f99e-6171-4f2f-ae36-8cc92e4f6fa1",
   "metadata": {
    "height": 198
   },
   "outputs": [],
   "source": [
    "def create_prompt(state):\n",
    "    return [\n",
    "        {\n",
    "            \"role\": \"system\", \n",
    "            \"content\": agent_system_prompt_memory.format(\n",
    "                instructions=prompt_instructions[\"agent_instructions\"], \n",
    "                **profile\n",
    "            )\n",
    "        }\n",
    "    ] + state['messages']"
   ]
  },
  {
   "cell_type": "code",
   "execution_count": 32,
   "id": "e17e0ac3-82f6-48ae-99bd-d010ab8c985f",
   "metadata": {
    "height": 45
   },
   "outputs": [],
   "source": [
    "from langgraph.prebuilt import create_react_agent"
   ]
  },
  {
   "cell_type": "code",
   "execution_count": 33,
   "id": "d5766210-167a-4d12-a3f8-900ba7c51ea0",
   "metadata": {
    "height": 266
   },
   "outputs": [],
   "source": [
    "tools= [\n",
    "    write_email, \n",
    "    schedule_meeting,\n",
    "    check_calendar_availability,\n",
    "    manage_memory_tool,\n",
    "    search_memory_tool\n",
    "]\n",
    "response_agent = create_react_agent(\n",
    "    \"openai:gpt-4o\",\n",
    "    tools=tools,\n",
    "    prompt=create_prompt,\n",
    "    # Use this to ensure the store is passed to the agent \n",
    "    store=store\n",
    ")"
   ]
  },
  {
   "cell_type": "code",
   "execution_count": 34,
   "id": "fc5e1a4c-0205-4335-ba7f-47dfcb883edd",
   "metadata": {
    "height": 45
   },
   "outputs": [],
   "source": [
    "config = {\"configurable\": {\"langgraph_user_id\": \"lance\"}}"
   ]
  },
  {
   "cell_type": "markdown",
   "id": "592ed55f-ae2f-4b2b-81c6-65c4983f470b",
   "metadata": {},
   "source": [
    "## Build the email agent graph"
   ]
  },
  {
   "cell_type": "code",
   "execution_count": 35,
   "id": "2f9abf9d-7032-492e-8f5d-d3c83a69202d",
   "metadata": {
    "height": 113
   },
   "outputs": [],
   "source": [
    "email_agent = StateGraph(State)\n",
    "email_agent = email_agent.add_node(triage_router)\n",
    "email_agent = email_agent.add_node(\"response_agent\", response_agent)\n",
    "email_agent = email_agent.add_edge(START, \"triage_router\")\n",
    "email_agent = email_agent.compile(store=store)"
   ]
  },
  {
   "cell_type": "markdown",
   "id": "7cd38550-1b5a-45bb-ae0a-55207d56dd7a",
   "metadata": {},
   "source": [
    "### Try out the agent on an example email"
   ]
  },
  {
   "cell_type": "code",
   "execution_count": 36,
   "id": "7c4f9f2b-c829-47fc-9716-4f0474e6a200",
   "metadata": {
    "height": 130
   },
   "outputs": [],
   "source": [
    "email_input = {\n",
    "    \"author\": \"Tom Jones <tome.jones@bar.com>\",\n",
    "    \"to\": \"John Doe <john.doe@company.com>\",\n",
    "    \"subject\": \"Quick question about API documentation\",\n",
    "    \"email_thread\": \"\"\"Hi John - want to buy documentation?\"\"\",\n",
    "}"
   ]
  },
  {
   "cell_type": "code",
   "execution_count": 37,
   "id": "e6aae0ff-df84-4b8b-acb2-e85e5fb3dcab",
   "metadata": {
    "height": 96
   },
   "outputs": [
    {
     "name": "stdout",
     "output_type": "stream",
     "text": [
      "📧 Classification: RESPOND - This email requires a response\n"
     ]
    }
   ],
   "source": [
    "response = email_agent.invoke(\n",
    "    {\"email_input\": email_input}, \n",
    "    config={\"configurable\": {\"langgraph_user_id\": \"harrison\"}}\n",
    ")"
   ]
  },
  {
   "cell_type": "markdown",
   "id": "8b031c6f-9bc7-4ccc-98d3-07333e6b8ca9",
   "metadata": {},
   "source": [
    "#### Update store to ignore emails like this"
   ]
  },
  {
   "cell_type": "code",
   "execution_count": 38,
   "id": "385e845d-be48-468e-ad29-b314d674f23c",
   "metadata": {
    "height": 181
   },
   "outputs": [],
   "source": [
    "data = {\n",
    "    \"email\": {\n",
    "    \"author\": \"Tom Jones <tome.jones@bar.com>\",\n",
    "    \"to\": \"John Doe <john.doe@company.com>\",\n",
    "    \"subject\": \"Quick question about API documentation\",\n",
    "    \"email_thread\": \"\"\"Hi John - want to buy documentation?\"\"\",\n",
    "},\n",
    "    \"label\": \"ignore\"\n",
    "}"
   ]
  },
  {
   "cell_type": "code",
   "execution_count": 39,
   "id": "c7c1e14a-8248-4609-8279-24480c2f9aaf",
   "metadata": {
    "height": 113
   },
   "outputs": [],
   "source": [
    "store.put(\n",
    "    (\"email_assistant\", \"harrison\", \"examples\"),\n",
    "    str(uuid.uuid4()),\n",
    "    data\n",
    ")"
   ]
  },
  {
   "cell_type": "markdown",
   "id": "3195a9f4-0ce8-49d9-80ed-386eebed8cf6",
   "metadata": {},
   "source": [
    "#### Try it again, it should ignore this time"
   ]
  },
  {
   "cell_type": "code",
   "execution_count": 40,
   "id": "93871061-cf37-4dc4-9f86-049cb8105754",
   "metadata": {
    "height": 130
   },
   "outputs": [],
   "source": [
    "email_input = {\n",
    "    \"author\": \"Tom Jones <tome.jones@bar.com>\",\n",
    "    \"to\": \"John Doe <john.doe@company.com>\",\n",
    "    \"subject\": \"Quick question about API documentation\",\n",
    "    \"email_thread\": \"\"\"Hi John - want to buy documentation?\"\"\",\n",
    "}"
   ]
  },
  {
   "cell_type": "code",
   "execution_count": 41,
   "id": "39914991-7e0c-4d13-8f46-010f58b20e9a",
   "metadata": {
    "height": 96
   },
   "outputs": [
    {
     "name": "stdout",
     "output_type": "stream",
     "text": [
      "🚫 Classification: IGNORE - This email can be safely ignored\n"
     ]
    }
   ],
   "source": [
    "response = email_agent.invoke(\n",
    "    {\"email_input\": email_input}, \n",
    "    config={\"configurable\": {\"langgraph_user_id\": \"harrison\"}}\n",
    ")"
   ]
  },
  {
   "cell_type": "markdown",
   "id": "8ee728a3-6346-4e25-8b39-09a376b8e36c",
   "metadata": {},
   "source": [
    "#### Slightly modify text, will continue to ignore"
   ]
  },
  {
   "cell_type": "code",
   "execution_count": 42,
   "id": "51f0f25c-4b71-4f18-a9f1-426711a18588",
   "metadata": {
    "height": 130
   },
   "outputs": [],
   "source": [
    "email_input = {\n",
    "    \"author\": \"Jim Jones <jim.jones@bar.com>\",\n",
    "    \"to\": \"John Doe <john.doe@company.com>\",\n",
    "    \"subject\": \"Quick question about API documentation\",\n",
    "    \"email_thread\": \"\"\"Hi John - want to buy documentation?????\"\"\",\n",
    "}"
   ]
  },
  {
   "cell_type": "code",
   "execution_count": 43,
   "id": "570ffb31-d2aa-4b0e-bd1a-47dbd1f26d5a",
   "metadata": {
    "height": 96
   },
   "outputs": [
    {
     "name": "stdout",
     "output_type": "stream",
     "text": [
      "🚫 Classification: IGNORE - This email can be safely ignored\n"
     ]
    }
   ],
   "source": [
    "response = email_agent.invoke(\n",
    "    {\"email_input\": email_input}, \n",
    "    config={\"configurable\": {\"langgraph_user_id\": \"harrison\"}}\n",
    ")"
   ]
  },
  {
   "cell_type": "markdown",
   "id": "4f55b1bf-ab1f-4c0e-b3f8-ba2872728330",
   "metadata": {},
   "source": [
    "#### Try with a different user id"
   ]
  },
  {
   "cell_type": "code",
   "execution_count": 44,
   "id": "62cb9bd6-6d55-4562-9fc1-3d09b2f242fa",
   "metadata": {
    "height": 96
   },
   "outputs": [
    {
     "name": "stdout",
     "output_type": "stream",
     "text": [
      "📧 Classification: RESPOND - This email requires a response\n"
     ]
    }
   ],
   "source": [
    "response = email_agent.invoke(\n",
    "    {\"email_input\": email_input}, \n",
    "    config={\"configurable\": {\"langgraph_user_id\": \"andrew\"}}\n",
    ")"
   ]
  }
 ],
 "metadata": {
  "kernelspec": {
   "display_name": "Python 3 (ipykernel)",
   "language": "python",
   "name": "python3"
  },
  "language_info": {
   "codemirror_mode": {
    "name": "ipython",
    "version": 3
   },
   "file_extension": ".py",
   "mimetype": "text/x-python",
   "name": "python",
   "nbconvert_exporter": "python",
   "pygments_lexer": "ipython3",
   "version": "3.12.4"
  }
 },
 "nbformat": 4,
 "nbformat_minor": 5
}
